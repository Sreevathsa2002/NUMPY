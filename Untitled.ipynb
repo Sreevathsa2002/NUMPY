{
 "cells": [
  {
   "cell_type": "code",
   "execution_count": 2,
   "id": "ec0b6db0",
   "metadata": {},
   "outputs": [
    {
     "name": "stdout",
     "output_type": "stream",
     "text": [
      "[[0. 0. 0.]\n",
      " [0. 0. 0.]\n",
      " [0. 0. 0.]]\n"
     ]
    }
   ],
   "source": [
    "import numpy as np\n",
    "a=np.zeros([3,3])\n",
    "print(a)"
   ]
  },
  {
   "cell_type": "code",
   "execution_count": 3,
   "id": "41668139",
   "metadata": {},
   "outputs": [
    {
     "name": "stdout",
     "output_type": "stream",
     "text": [
      "[[1. 1. 1.]\n",
      " [1. 1. 1.]\n",
      " [1. 1. 1.]]\n"
     ]
    }
   ],
   "source": [
    "b=np.ones([3,3])\n",
    "print(b)"
   ]
  },
  {
   "cell_type": "code",
   "execution_count": 4,
   "id": "04bd7fac",
   "metadata": {},
   "outputs": [
    {
     "name": "stdout",
     "output_type": "stream",
     "text": [
      "[1. 1. 1.]\n",
      "[1. 1. 1.]\n",
      "[1. 1. 1.]\n"
     ]
    }
   ],
   "source": [
    "for i in b:\n",
    "    print(i)"
   ]
  },
  {
   "cell_type": "code",
   "execution_count": 6,
   "id": "6cf565b9",
   "metadata": {},
   "outputs": [
    {
     "name": "stdout",
     "output_type": "stream",
     "text": [
      "enter value 13\n",
      "enter value 26\n",
      "enter value 39\n",
      "[3. 6. 9.]\n"
     ]
    }
   ],
   "source": [
    "c=np.zeros(3)\n",
    "a1=int(input(\"enter value 1\"))\n",
    "a2=int(input(\"enter value 2\"))\n",
    "a3=int(input(\"enter value 3\"))\n",
    "c[0]=a1\n",
    "c[1]=a2\n",
    "c[2]=a3\n",
    "print(c)"
   ]
  },
  {
   "cell_type": "code",
   "execution_count": 19,
   "id": "5dd3963e",
   "metadata": {},
   "outputs": [
    {
     "name": "stdout",
     "output_type": "stream",
     "text": [
      "{3: 4, 35: 1, 5: 4, 6: 2, 8: 4}\n"
     ]
    }
   ],
   "source": [
    "s={}\n",
    "for i in d:\n",
    "    if i in s:\n",
    "        s[i]+=1\n",
    "    else:\n",
    "        s[i]=1\n",
    "print(s)"
   ]
  },
  {
   "cell_type": "code",
   "execution_count": 12,
   "id": "9703d0e2",
   "metadata": {},
   "outputs": [
    {
     "name": "stdout",
     "output_type": "stream",
     "text": [
      "Counter({3: 4, 5: 4, 8: 4, 6: 2, 35: 1})\n"
     ]
    }
   ],
   "source": [
    "d=np.array([3,3,3,3,35,5,6,8,8,8,8,6,5,5,5,])\n",
    "from collections import Counter\n",
    "e=Counter(d)\n",
    "print(e)"
   ]
  },
  {
   "cell_type": "code",
   "execution_count": 14,
   "id": "498569b9",
   "metadata": {},
   "outputs": [
    {
     "name": "stdout",
     "output_type": "stream",
     "text": [
      "enter number to search3\n",
      "4\n"
     ]
    }
   ],
   "source": [
    "l1=int(input(\"enter number to search\"))\n",
    "print(np.count_nonzero(d==l1))"
   ]
  },
  {
   "cell_type": "code",
   "execution_count": 16,
   "id": "b9f39eec",
   "metadata": {},
   "outputs": [
    {
     "name": "stdout",
     "output_type": "stream",
     "text": [
      "8\n"
     ]
    }
   ],
   "source": [
    "print(np.count_nonzero(d<6))"
   ]
  },
  {
   "cell_type": "code",
   "execution_count": 17,
   "id": "baf34b08",
   "metadata": {},
   "outputs": [
    {
     "name": "stdout",
     "output_type": "stream",
     "text": [
      "True\n",
      "False\n"
     ]
    }
   ],
   "source": [
    "g=np.array([3,4,5,6,7,3,2,69,78])\n",
    "print(69 in g)\n",
    "print(79 in g)"
   ]
  },
  {
   "cell_type": "code",
   "execution_count": 18,
   "id": "d969ac96",
   "metadata": {},
   "outputs": [
    {
     "name": "stdout",
     "output_type": "stream",
     "text": [
      "78\n",
      "2\n"
     ]
    }
   ],
   "source": [
    "print(np.max(g))\n",
    "print(np.min(g))"
   ]
  },
  {
   "cell_type": "code",
   "execution_count": null,
   "id": "96078332",
   "metadata": {},
   "outputs": [],
   "source": []
  }
 ],
 "metadata": {
  "kernelspec": {
   "display_name": "Python 3 (ipykernel)",
   "language": "python",
   "name": "python3"
  },
  "language_info": {
   "codemirror_mode": {
    "name": "ipython",
    "version": 3
   },
   "file_extension": ".py",
   "mimetype": "text/x-python",
   "name": "python",
   "nbconvert_exporter": "python",
   "pygments_lexer": "ipython3",
   "version": "3.9.7"
  }
 },
 "nbformat": 4,
 "nbformat_minor": 5
}
